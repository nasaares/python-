{
 "cells": [
  {
   "cell_type": "markdown",
   "metadata": {},
   "source": [
    "--函数范式\n",
    "Python 定义函数使用 def 关键字，一般格式如下：\n",
    "\n",
    "def 函数名（形式参数列表）：     #函数定义\n",
    "    函数体\n",
    "    return n\n",
    "\n",
    "函数名（实际参数列表）           #函数调用"
   ]
  },
  {
   "cell_type": "code",
   "execution_count": 1,
   "metadata": {},
   "outputs": [
    {
     "name": "stdout",
     "output_type": "stream",
     "text": [
      "9\n"
     ]
    }
   ],
   "source": [
    "def f_sum(x,y): \n",
    "    c = x + y \n",
    "    return c \n",
    "m = f_sum(4,5)\n",
    "print(m)"
   ]
  },
  {
   "cell_type": "markdown",
   "metadata": {},
   "source": [
    "--无参数，无返回值\n",
    "使用函数来输出\"Hello World！\"："
   ]
  },
  {
   "cell_type": "code",
   "execution_count": 5,
   "metadata": {},
   "outputs": [
    {
     "name": "stdout",
     "output_type": "stream",
     "text": [
      "Hello World!\n"
     ]
    }
   ],
   "source": [
    "def hello() : \n",
    "    print(\"Hello World!\")\n",
    "hello()"
   ]
  },
  {
   "cell_type": "markdown",
   "metadata": {},
   "source": [
    "--有参数，无返回值"
   ]
  },
  {
   "cell_type": "code",
   "execution_count": 6,
   "metadata": {},
   "outputs": [
    {
     "name": "stdout",
     "output_type": "stream",
     "text": [
      "Welcome Fred\n"
     ]
    }
   ],
   "source": [
    "def print_welcome(name): \n",
    "    print(\"Welcome\", name) \n",
    "print_welcome(\"Fred\") "
   ]
  },
  {
   "cell_type": "markdown",
   "metadata": {},
   "source": [
    "--有参数、有返回值"
   ]
  },
  {
   "cell_type": "code",
   "execution_count": 8,
   "metadata": {},
   "outputs": [
    {
     "name": "stdout",
     "output_type": "stream",
     "text": [
      "width = 4  height = 5  area = 20\n"
     ]
    }
   ],
   "source": [
    "def area(width, height): \n",
    "    return width * height\n",
    "w = 4 \n",
    "h = 5 \n",
    "print(\"width =\", w, \" height =\", h, \" area =\", area(w, h))"
   ]
  },
  {
   "cell_type": "markdown",
   "metadata": {},
   "source": [
    "--也可以让函数返回空值："
   ]
  },
  {
   "cell_type": "code",
   "execution_count": null,
   "metadata": {},
   "outputs": [],
   "source": [
    "def f_empty(x,y): \n",
    "    c = x + y \n",
    "    return \n",
    "res = f_empty(4,5) \n",
    "print(res)"
   ]
  },
  {
   "cell_type": "markdown",
   "metadata": {},
   "source": [
    "--函数变量作用域\n",
    "\n",
    "定义在函数内部的变量拥有一个局部作用域，定义在函数外的拥有全局作用域。通过以下实例，你可以清楚了解Python函数变量的作用域："
   ]
  },
  {
   "cell_type": "code",
   "execution_count": 10,
   "metadata": {},
   "outputs": [
    {
     "name": "stdout",
     "output_type": "stream",
     "text": [
      "in f1 a =  17\n",
      "in f2 a =  4\n",
      "a =  4\n"
     ]
    }
   ],
   "source": [
    "a = 4 # 全局变量\n",
    "def f1(): \n",
    "    a = 17 # 局部变量\n",
    "    print(\"in f1 a = \", a)\n",
    "def f2(): \n",
    "    print(\"in f2 a = \", a) \n",
    "f1() \n",
    "f2() \n",
    "print(\"a = \", a)"
   ]
  },
  {
   "cell_type": "markdown",
   "metadata": {},
   "source": [
    "--关键字参数\n",
    "关键字实参将名称和值关联起来了，使得用在向函数传递实参时不会混淆。关键字实参无需考虑函数调用中的实参顺序，还清楚地指出了函数调用中各个值的用途。"
   ]
  },
  {
   "cell_type": "code",
   "execution_count": 6,
   "metadata": {},
   "outputs": [
    {
     "name": "stdout",
     "output_type": "stream",
     "text": [
      "该学生名叫 小明 ，年龄 19 岁，性名为 男\n",
      "该学生名叫 小明 ，年龄 19 岁，性名为 男\n",
      "该学生名叫 小明 ，年龄 19 岁，性名为 男\n"
     ]
    }
   ],
   "source": [
    "def student(name,age,sex):\n",
    "    print(\"该学生名叫\", name, \"，年龄\",age,\"岁，性名为\",sex)\n",
    "student('小明','19','男')\n",
    "student(name='小明',age='19',sex='男')\n",
    "student(sex='男',name='小明',age='19')   "
   ]
  },
  {
   "cell_type": "markdown",
   "metadata": {},
   "source": [
    "--可变参数列表"
   ]
  },
  {
   "cell_type": "code",
   "execution_count": 16,
   "metadata": {},
   "outputs": [
    {
     "name": "stdout",
     "output_type": "stream",
     "text": [
      "244\n",
      "170009.31\n",
      "77\n",
      "45\n",
      "0\n"
     ]
    }
   ],
   "source": [
    "def arithmetic_mean(*args):\n",
    "    sum = 0\n",
    "    for x in args:\n",
    "        sum += x \n",
    "    return sum \n",
    "print(arithmetic_mean(45,32,89,78))\n",
    "print(arithmetic_mean(8989.8,78787.78,3453,78778.73))\n",
    "print(arithmetic_mean(45,32)) \n",
    "print(arithmetic_mean(45)) \n",
    "print(arithmetic_mean())"
   ]
  },
  {
   "cell_type": "markdown",
   "metadata": {},
   "source": [
    "--将函数存储在模块中\n",
    "函数的优点之一是，使用它们可将代码块与主程序分离。可将函数存储在被称为模块的独立文件中， 再将模块导入到主程序中。\n",
    "import语句允许在当前运行的程序文件中使用模块中的代码。\n",
    "通过将函数存储在独立的文件中，可隐藏程序代码的细节，将重点放在程序的高层逻辑上。\n",
    "--导入模块的方法有多种，下面对每种都作简要的介绍。 \n",
    "--导入整个模块\n",
    "要让函数是可导入的，得先创建模块。模块是扩展名为.py的文件，包含要导入到程序中的代码。下面来创建一个包含函数my_f() 的模块。"
   ]
  },
  {
   "cell_type": "markdown",
   "metadata": {},
   "source": [
    "--导入整个模块\n",
    "import module_name [as 别名]\n",
    "\n",
    "--导入模块中的所有函数：\n",
    "from module_name import *"
   ]
  },
  {
   "cell_type": "markdown",
   "metadata": {},
   "source": [
    "import my_f \n",
    "my_f.hello()"
   ]
  },
  {
   "cell_type": "markdown",
   "metadata": {},
   "source": [
    "--导入特定的函数\n",
    "from module_name import function_name [as 别名]"
   ]
  },
  {
   "cell_type": "markdown",
   "metadata": {},
   "source": [
    "import my_f as f\n",
    "f.hello()"
   ]
  },
  {
   "cell_type": "markdown",
   "metadata": {},
   "source": [
    "课堂练习"
   ]
  },
  {
   "cell_type": "markdown",
   "metadata": {},
   "source": [
    "在spyder中编写以下函数，并存为模块，在新的程序文件中调用模块中的函数\n",
    "习题1：编写一个函数f_max(x,y,z)，输入三个数，输出最大值"
   ]
  },
  {
   "cell_type": "markdown",
   "metadata": {},
   "source": [
    "习题2：编写一个函数f_area(x,y,z)，输入三个数，作为三角形的三个边长，计算三角形的面积\n",
    "提示:\n",
    "1、海伦公式 p=(x+y+z)/2 ，S=sqart(p*(p-x)(p-y)(p-z))\n",
    "2、程序中要使用的求平方根函数为sqrt(x),需要先引用math模块\n",
    "import math\n",
    "y=math.sqrt(x)"
   ]
  }
 ],
 "metadata": {
  "kernelspec": {
   "display_name": "Python 3",
   "language": "python",
   "name": "python3"
  },
  "language_info": {
   "codemirror_mode": {
    "name": "ipython",
    "version": 3
   },
   "file_extension": ".py",
   "mimetype": "text/x-python",
   "name": "python",
   "nbconvert_exporter": "python",
   "pygments_lexer": "ipython3",
   "version": "3.6.4"
  }
 },
 "nbformat": 4,
 "nbformat_minor": 2
}
