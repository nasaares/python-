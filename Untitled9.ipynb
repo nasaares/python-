{
  "nbformat": 4,
  "nbformat_minor": 0,
  "metadata": {
    "colab": {
      "provenance": [],
      "authorship_tag": "ABX9TyMvF0ah6zL/wrDky1XsuWik",
      "include_colab_link": true
    },
    "kernelspec": {
      "name": "python3",
      "display_name": "Python 3"
    },
    "language_info": {
      "name": "python"
    }
  },
  "cells": [
    {
      "cell_type": "markdown",
      "metadata": {
        "id": "view-in-github",
        "colab_type": "text"
      },
      "source": [
        "<a href=\"https://colab.research.google.com/github/nasaares/python-/blob/master/Untitled9.ipynb\" target=\"_parent\"><img src=\"https://colab.research.google.com/assets/colab-badge.svg\" alt=\"Open In Colab\"/></a>"
      ]
    },
    {
      "cell_type": "code",
      "execution_count": 1,
      "metadata": {
        "id": "C6i-YDTGYG8e"
      },
      "outputs": [],
      "source": [
        "import torch\n",
        "import torch.nn as nn\n",
        "import torch.optim as optim\n",
        "import matplotlib.pyplot as plt"
      ]
    },
    {
      "cell_type": "code",
      "source": [
        "# 生成一些数据用于训练\n",
        "x_train = torch.tensor([[1.0], [2.0], [3.0], [4.0], [5.0]], dtype=torch.float32)\n",
        "y_train = torch.tensor([[2.0], [4.0], [6.0], [8.0], [10.0]], dtype=torch.float32)"
      ],
      "metadata": {
        "id": "U9CPw4FhYLsv"
      },
      "execution_count": 2,
      "outputs": []
    },
    {
      "cell_type": "code",
      "source": [
        "# 定义一个简单的线性回归模型\n",
        "class LinearRegressionModel(nn.Module):\n",
        "    def __init__(self):\n",
        "        super(LinearRegressionModel, self).__init__()\n",
        "        self.linear = nn.Linear(1, 1)  # 输入为1个特征，输出为1个值\n",
        "\n",
        "    def forward(self, x):\n",
        "        return self.linear(x)"
      ],
      "metadata": {
        "id": "tMplXK9XYRoE"
      },
      "execution_count": 3,
      "outputs": []
    },
    {
      "cell_type": "code",
      "source": [
        "# 实例化模型\n",
        "model = LinearRegressionModel()\n",
        "\n",
        "# 定义损失函数和优化器\n",
        "criterion = nn.MSELoss()\n",
        "optimizer = optim.SGD(model.parameters(), lr=0.01)"
      ],
      "metadata": {
        "id": "FShEWG9WYVFr"
      },
      "execution_count": 4,
      "outputs": []
    },
    {
      "cell_type": "code",
      "source": [
        "# 训练模型\n",
        "epochs = 100\n",
        "for epoch in range(epochs):\n",
        "    # 前向传播\n",
        "    y_pred = model(x_train)\n",
        "    loss = criterion(y_pred, y_train)\n",
        "\n",
        "    # 反向传播和优化\n",
        "    optimizer.zero_grad()\n",
        "    loss.backward()\n",
        "    optimizer.step()\n",
        "\n",
        "    if (epoch + 1) % 10 == 0:\n",
        "        print(f'Epoch [{epoch+1}/{epochs}], Loss: {loss.item():.4f}')\n"
      ],
      "metadata": {
        "colab": {
          "base_uri": "https://localhost:8080/"
        },
        "id": "PmBP0GRhYbTf",
        "outputId": "ff2ed8b2-91c2-4cf9-97c5-d49ada580ced"
      },
      "execution_count": 5,
      "outputs": [
        {
          "output_type": "stream",
          "name": "stdout",
          "text": [
            "Epoch [10/100], Loss: 0.3418\n",
            "Epoch [20/100], Loss: 0.0290\n",
            "Epoch [30/100], Loss: 0.0258\n",
            "Epoch [40/100], Loss: 0.0241\n",
            "Epoch [50/100], Loss: 0.0225\n",
            "Epoch [60/100], Loss: 0.0210\n",
            "Epoch [70/100], Loss: 0.0196\n",
            "Epoch [80/100], Loss: 0.0184\n",
            "Epoch [90/100], Loss: 0.0172\n",
            "Epoch [100/100], Loss: 0.0160\n"
          ]
        }
      ]
    },
    {
      "cell_type": "code",
      "source": [
        "# 打印模型的参数（权重和偏置）\n",
        "[w, b] = model.parameters()\n",
        "print(f\"Weight: {w.item()}, Bias: {b.item()}\")\n",
        "\n",
        "# 测试模型并画出拟合直线\n",
        "x_test = torch.tensor([[6.0]], dtype=torch.float32)\n",
        "y_test_pred = model(x_test)\n",
        "print(f'Prediction for input 6.0: {y_test_pred.item():.4f}')"
      ],
      "metadata": {
        "colab": {
          "base_uri": "https://localhost:8080/"
        },
        "id": "2Vt4DuQ9Yf29",
        "outputId": "fe2cf14a-b7ad-4a96-8dda-78cc9e451102"
      },
      "execution_count": 6,
      "outputs": [
        {
          "output_type": "stream",
          "name": "stdout",
          "text": [
            "Weight: 2.0819251537323, Bias: -0.2957764267921448\n",
            "Prediction for input 6.0: 12.1958\n"
          ]
        }
      ]
    },
    {
      "cell_type": "code",
      "source": [
        "# 可视化结果\n",
        "x_plot = x_train.numpy()\n",
        "y_plot = y_train.numpy()\n",
        "x_line = torch.linspace(1, 6, 100).reshape(-1, 1)\n",
        "y_line = model(x_line).detach().numpy()\n",
        "\n",
        "plt.scatter(x_plot, y_plot, color='blue', label='Original Data')\n",
        "plt.plot(x_line.numpy(), y_line, color='red', label='Fitted Line')\n",
        "plt.xlabel('x')\n",
        "plt.ylabel('y')\n",
        "plt.legend()\n",
        "plt.show()"
      ],
      "metadata": {
        "colab": {
          "base_uri": "https://localhost:8080/",
          "height": 449
        },
        "id": "JFCewtrSYi2h",
        "outputId": "a738f7b4-e3bb-44a8-ecfd-31159012bb22"
      },
      "execution_count": 7,
      "outputs": [
        {
          "output_type": "display_data",
          "data": {
            "text/plain": [
              "<Figure size 640x480 with 1 Axes>"
            ],
            "image/png": "[encoded data removed]"
          },
          "metadata": {}
        }
      ]
    }
  ]
}